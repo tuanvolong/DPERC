{
  "nbformat": 4,
  "nbformat_minor": 0,
  "metadata": {
    "colab": {
      "provenance": [],
      "collapsed_sections": [
        "G-sd573NyJkL",
        "wMI37xU-yNsg"
      ]
    },
    "kernelspec": {
      "name": "python3",
      "display_name": "Python 3"
    },
    "language_info": {
      "name": "python"
    }
  },
  "cells": [
    {
      "cell_type": "markdown",
      "source": [
        "# Library and functions"
      ],
      "metadata": {
        "id": "_Gz0c3Iax6DI"
      }
    },
    {
      "cell_type": "code",
      "source": [
        "import numpy as np\n",
        "import random\n",
        "import math\n",
        "from numpy.linalg import norm, inv\n",
        "import pandas as pd"
      ],
      "metadata": {
        "id": "eOvnTWDKozrK"
      },
      "execution_count": null,
      "outputs": []
    },
    {
      "cell_type": "markdown",
      "source": [
        "#Data processing"
      ],
      "metadata": {
        "id": "Rt2OkSF-o8nu"
      }
    },
    {
      "cell_type": "code",
      "source": [
        "df = pd.read_csv(\"/content/Data.csv\")\n",
        "s0 = s1 = s2 = s3 = s4 = 0\n",
        "for v in x:\n",
        "  if ('0 lần' in v):\n",
        "    s0 = s0+1\n",
        "  if ('1 lần' in v):\n",
        "    s1 = s1+1\n",
        "  if ('2 lần' in v):\n",
        "    s2 = s2+1\n",
        "  if ('3 lần.' == v):\n",
        "    s3 = s3+1\n",
        "  if ('>3 lần' in v) or ('> 3 lần' in v):\n",
        "    s4 = s4+1\n",
        "print(\"0 lần: \", s0)\n",
        "print(\"1 lần: \", s1)\n",
        "print(\"2 lần: \", s2)\n",
        "print(\"3 lần: \", s3)\n",
        "print(\">3 lần: \", s4)\n",
        "print(\"Total: \", s0+s1+s2+s3+s4)"
      ],
      "metadata": {
        "colab": {
          "base_uri": "https://localhost:8080/"
        },
        "id": "EtZg7lMpo_wT",
        "outputId": "035aebc8-ff09-4e06-ffc2-fd47f52da03b"
      },
      "execution_count": null,
      "outputs": [
        {
          "output_type": "stream",
          "name": "stdout",
          "text": [
            "0 lần:  127\n",
            "1 lần:  39\n",
            "2 lần:  27\n",
            "3 lần:  5\n",
            ">3 lần:  26\n",
            "Total:  224\n"
          ]
        }
      ]
    },
    {
      "cell_type": "markdown",
      "source": [
        "#Compute"
      ],
      "metadata": {
        "id": "OtNyR6M7o1Wl"
      }
    },
    {
      "cell_type": "code",
      "source": [
        "S = np.array([[1,.5],[.5,1]])\n",
        "a = norm(S)\n",
        "b = norm(inv(S))\n",
        "\n",
        "S1 = np.array([[1,.64],[.64,1]])\n",
        "E1 = S1 - S\n",
        "e1 = norm(E1)\n",
        "i1 = norm(inv(S1)-inv(S))\n",
        "\n",
        "S2 = np.array([[1,.49],[.49,1]])\n",
        "E2 = S2 - S\n",
        "e2 = norm(E2)\n",
        "i2 = norm(inv(S2)-inv(S))\n",
        "\n",
        "print(e1)\n",
        "print(e2)\n",
        "print(i1,1/a-1/(a+e1),b*b*e1/(1-b*e1))\n",
        "print(i2,1/a-1/(a+e2),b*b*e2/(1-b*e2))"
      ],
      "metadata": {
        "id": "cJNKfMrVEjb4",
        "colab": {
          "base_uri": "https://localhost:8080/"
        },
        "outputId": "3ecb37fa-da5d-435b-9709-30fe44b2ddba"
      },
      "execution_count": null,
      "outputs": [
        {
          "output_type": "stream",
          "name": "stdout",
          "text": [
            "0.19798989873223333\n",
            "0.014142135623730963\n",
            "0.7798570923450479 0.07038265680937639 1.5103915765229656\n",
            "0.0394701047406604 0.0056067063434371844 0.06478546550305493\n"
          ]
        }
      ]
    }
  ]
}